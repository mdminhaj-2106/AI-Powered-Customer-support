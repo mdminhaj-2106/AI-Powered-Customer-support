{
  "nbformat": 4,
  "nbformat_minor": 0,
  "metadata": {
    "colab": {
      "provenance": [],
      "gpuType": "T4"
    },
    "kernelspec": {
      "name": "python3",
      "display_name": "Python 3"
    },
    "language_info": {
      "name": "python"
    },
    "accelerator": "GPU"
  },
  "cells": [
    {
      "cell_type": "code",
      "execution_count": 19,
      "metadata": {
        "colab": {
          "base_uri": "https://localhost:8080/"
        },
        "id": "wfje4pVIP1gK",
        "outputId": "40d8a26a-aef1-4a30-9e97-da7ddaf8f432"
      },
      "outputs": [
        {
          "output_type": "stream",
          "name": "stdout",
          "text": [
            "Requirement already satisfied: tensorflow in /usr/local/lib/python3.12/dist-packages (2.19.0)\n",
            "Requirement already satisfied: pandas in /usr/local/lib/python3.12/dist-packages (2.2.2)\n",
            "Requirement already satisfied: scikit-learn in /usr/local/lib/python3.12/dist-packages (1.6.1)\n",
            "Requirement already satisfied: numpy in /usr/local/lib/python3.12/dist-packages (2.0.2)\n",
            "Requirement already satisfied: absl-py>=1.0.0 in /usr/local/lib/python3.12/dist-packages (from tensorflow) (1.4.0)\n",
            "Requirement already satisfied: astunparse>=1.6.0 in /usr/local/lib/python3.12/dist-packages (from tensorflow) (1.6.3)\n",
            "Requirement already satisfied: flatbuffers>=24.3.25 in /usr/local/lib/python3.12/dist-packages (from tensorflow) (25.9.23)\n",
            "Requirement already satisfied: gast!=0.5.0,!=0.5.1,!=0.5.2,>=0.2.1 in /usr/local/lib/python3.12/dist-packages (from tensorflow) (0.6.0)\n",
            "Requirement already satisfied: google-pasta>=0.1.1 in /usr/local/lib/python3.12/dist-packages (from tensorflow) (0.2.0)\n",
            "Requirement already satisfied: libclang>=13.0.0 in /usr/local/lib/python3.12/dist-packages (from tensorflow) (18.1.1)\n",
            "Requirement already satisfied: opt-einsum>=2.3.2 in /usr/local/lib/python3.12/dist-packages (from tensorflow) (3.4.0)\n",
            "Requirement already satisfied: packaging in /usr/local/lib/python3.12/dist-packages (from tensorflow) (25.0)\n",
            "Requirement already satisfied: protobuf!=4.21.0,!=4.21.1,!=4.21.2,!=4.21.3,!=4.21.4,!=4.21.5,<6.0.0dev,>=3.20.3 in /usr/local/lib/python3.12/dist-packages (from tensorflow) (5.29.5)\n",
            "Requirement already satisfied: requests<3,>=2.21.0 in /usr/local/lib/python3.12/dist-packages (from tensorflow) (2.32.4)\n",
            "Requirement already satisfied: setuptools in /usr/local/lib/python3.12/dist-packages (from tensorflow) (75.2.0)\n",
            "Requirement already satisfied: six>=1.12.0 in /usr/local/lib/python3.12/dist-packages (from tensorflow) (1.17.0)\n",
            "Requirement already satisfied: termcolor>=1.1.0 in /usr/local/lib/python3.12/dist-packages (from tensorflow) (3.1.0)\n",
            "Requirement already satisfied: typing-extensions>=3.6.6 in /usr/local/lib/python3.12/dist-packages (from tensorflow) (4.15.0)\n",
            "Requirement already satisfied: wrapt>=1.11.0 in /usr/local/lib/python3.12/dist-packages (from tensorflow) (1.17.3)\n",
            "Requirement already satisfied: grpcio<2.0,>=1.24.3 in /usr/local/lib/python3.12/dist-packages (from tensorflow) (1.75.1)\n",
            "Requirement already satisfied: tensorboard~=2.19.0 in /usr/local/lib/python3.12/dist-packages (from tensorflow) (2.19.0)\n",
            "Requirement already satisfied: keras>=3.5.0 in /usr/local/lib/python3.12/dist-packages (from tensorflow) (3.10.0)\n",
            "Requirement already satisfied: h5py>=3.11.0 in /usr/local/lib/python3.12/dist-packages (from tensorflow) (3.15.0)\n",
            "Requirement already satisfied: ml-dtypes<1.0.0,>=0.5.1 in /usr/local/lib/python3.12/dist-packages (from tensorflow) (0.5.3)\n",
            "Requirement already satisfied: python-dateutil>=2.8.2 in /usr/local/lib/python3.12/dist-packages (from pandas) (2.9.0.post0)\n",
            "Requirement already satisfied: pytz>=2020.1 in /usr/local/lib/python3.12/dist-packages (from pandas) (2025.2)\n",
            "Requirement already satisfied: tzdata>=2022.7 in /usr/local/lib/python3.12/dist-packages (from pandas) (2025.2)\n",
            "Requirement already satisfied: scipy>=1.6.0 in /usr/local/lib/python3.12/dist-packages (from scikit-learn) (1.16.2)\n",
            "Requirement already satisfied: joblib>=1.2.0 in /usr/local/lib/python3.12/dist-packages (from scikit-learn) (1.5.2)\n",
            "Requirement already satisfied: threadpoolctl>=3.1.0 in /usr/local/lib/python3.12/dist-packages (from scikit-learn) (3.6.0)\n",
            "Requirement already satisfied: wheel<1.0,>=0.23.0 in /usr/local/lib/python3.12/dist-packages (from astunparse>=1.6.0->tensorflow) (0.45.1)\n",
            "Requirement already satisfied: rich in /usr/local/lib/python3.12/dist-packages (from keras>=3.5.0->tensorflow) (13.9.4)\n",
            "Requirement already satisfied: namex in /usr/local/lib/python3.12/dist-packages (from keras>=3.5.0->tensorflow) (0.1.0)\n",
            "Requirement already satisfied: optree in /usr/local/lib/python3.12/dist-packages (from keras>=3.5.0->tensorflow) (0.17.0)\n",
            "Requirement already satisfied: charset_normalizer<4,>=2 in /usr/local/lib/python3.12/dist-packages (from requests<3,>=2.21.0->tensorflow) (3.4.4)\n",
            "Requirement already satisfied: idna<4,>=2.5 in /usr/local/lib/python3.12/dist-packages (from requests<3,>=2.21.0->tensorflow) (3.11)\n",
            "Requirement already satisfied: urllib3<3,>=1.21.1 in /usr/local/lib/python3.12/dist-packages (from requests<3,>=2.21.0->tensorflow) (2.5.0)\n",
            "Requirement already satisfied: certifi>=2017.4.17 in /usr/local/lib/python3.12/dist-packages (from requests<3,>=2.21.0->tensorflow) (2025.10.5)\n",
            "Requirement already satisfied: markdown>=2.6.8 in /usr/local/lib/python3.12/dist-packages (from tensorboard~=2.19.0->tensorflow) (3.9)\n",
            "Requirement already satisfied: tensorboard-data-server<0.8.0,>=0.7.0 in /usr/local/lib/python3.12/dist-packages (from tensorboard~=2.19.0->tensorflow) (0.7.2)\n",
            "Requirement already satisfied: werkzeug>=1.0.1 in /usr/local/lib/python3.12/dist-packages (from tensorboard~=2.19.0->tensorflow) (3.1.3)\n",
            "Requirement already satisfied: MarkupSafe>=2.1.1 in /usr/local/lib/python3.12/dist-packages (from werkzeug>=1.0.1->tensorboard~=2.19.0->tensorflow) (3.0.3)\n",
            "Requirement already satisfied: markdown-it-py>=2.2.0 in /usr/local/lib/python3.12/dist-packages (from rich->keras>=3.5.0->tensorflow) (4.0.0)\n",
            "Requirement already satisfied: pygments<3.0.0,>=2.13.0 in /usr/local/lib/python3.12/dist-packages (from rich->keras>=3.5.0->tensorflow) (2.19.2)\n",
            "Requirement already satisfied: mdurl~=0.1 in /usr/local/lib/python3.12/dist-packages (from markdown-it-py>=2.2.0->rich->keras>=3.5.0->tensorflow) (0.1.2)\n"
          ]
        }
      ],
      "source": [
        "!pip install tensorflow pandas scikit-learn numpy"
      ]
    },
    {
      "cell_type": "code",
      "source": [
        "import numpy as np\n",
        "import pandas as pd\n",
        "import pickle as pk\n",
        "from tensorflow.keras.models import Sequential\n",
        "from tensorflow.keras.layers import Embedding, GRU, Dense, Dropout\n",
        "from tensorflow.keras.preprocessing.text import Tokenizer\n",
        "from tensorflow.keras.preprocessing.sequence import pad_sequences\n",
        "from sklearn.model_selection import train_test_split\n",
        "from sklearn.preprocessing import LabelEncoder"
      ],
      "metadata": {
        "id": "0WSqsSOOQKat"
      },
      "execution_count": 20,
      "outputs": []
    },
    {
      "cell_type": "code",
      "source": [
        "### This is my toy data set\n",
        "data = {\n",
        "    'text': [\n",
        "        \"My app is broken!\",\n",
        "        \"I can't log in\",\n",
        "        \"How do I reset my password?\",\n",
        "        \"Where is my order?\",\n",
        "        \"What is the status of my shipment?\",\n",
        "        \"I need a refund for my order\",\n",
        "        \"This is not working, I want my money back\",\n",
        "        \"The app is so slow and buggy\",\n",
        "        \"Forgot my login info\",\n",
        "        \"When will my package arrive?\"\n",
        "    ],\n",
        "    'intent': [\n",
        "        \"LOGIN_ISSUE\",\n",
        "        \"LOGIN_ISSUE\",\n",
        "        \"PASSWORD_RESET\",\n",
        "        \"ORDER_STATUS\",\n",
        "        \"ORDER_STATUS\",\n",
        "        \"REFUND_REQUEST\",\n",
        "        \"REFUND_REQUEST\",\n",
        "        \"LOGIN_ISSUE\",\n",
        "        \"PASSWORD_RESET\",\n",
        "        \"ORDER_STATUS\"\n",
        "    ]\n",
        "}\n",
        "\n",
        "df = pd.DataFrame(data)\n",
        "print(df)"
      ],
      "metadata": {
        "colab": {
          "base_uri": "https://localhost:8080/"
        },
        "id": "W4YLWNUuQ5Bx",
        "outputId": "fb53abcb-f561-42c2-b1cc-e88a48e03559"
      },
      "execution_count": 21,
      "outputs": [
        {
          "output_type": "stream",
          "name": "stdout",
          "text": [
            "                                        text          intent\n",
            "0                          My app is broken!     LOGIN_ISSUE\n",
            "1                             I can't log in     LOGIN_ISSUE\n",
            "2                How do I reset my password?  PASSWORD_RESET\n",
            "3                         Where is my order?    ORDER_STATUS\n",
            "4         What is the status of my shipment?    ORDER_STATUS\n",
            "5               I need a refund for my order  REFUND_REQUEST\n",
            "6  This is not working, I want my money back  REFUND_REQUEST\n",
            "7               The app is so slow and buggy     LOGIN_ISSUE\n",
            "8                       Forgot my login info  PASSWORD_RESET\n",
            "9               When will my package arrive?    ORDER_STATUS\n"
          ]
        }
      ]
    },
    {
      "cell_type": "code",
      "source": [
        "MAX_WORDS = 1000\n",
        "MAX_LEN = 20\n",
        "\n",
        "tokenizer = Tokenizer(num_words=MAX_WORDS, oov_token=\"<OOV>\")\n",
        "tokenizer.fit_on_texts(df['text'])\n",
        "\n",
        "X_sequences = tokenizer.texts_to_sequences(df['text'])\n",
        "X_padded = pad_sequences(X_sequences, maxlen=MAX_LEN, padding='post', truncating='post')\n",
        "\n",
        "encoder = LabelEncoder()\n",
        "y_encoded = encoder.fit_transform(df[['intent']])\n",
        "\n",
        "print(\"Text data shape:\", X_padded.shape)\n",
        "print(\"Label data shape:\", y_encoded.shape)\n",
        "\n",
        "\n",
        "nums = len(encoder.classes_)"
      ],
      "metadata": {
        "colab": {
          "base_uri": "https://localhost:8080/"
        },
        "id": "GImYDGg6Q_oJ",
        "outputId": "7388fba0-ff84-4e9f-a892-87ab4bec08ad"
      },
      "execution_count": 25,
      "outputs": [
        {
          "output_type": "stream",
          "name": "stdout",
          "text": [
            "Text data shape: (10, 20)\n",
            "Label data shape: (10,)\n"
          ]
        },
        {
          "output_type": "stream",
          "name": "stderr",
          "text": [
            "/usr/local/lib/python3.12/dist-packages/sklearn/preprocessing/_label.py:110: DataConversionWarning: A column-vector y was passed when a 1d array was expected. Please change the shape of y to (n_samples, ), for example using ravel().\n",
            "  y = column_or_1d(y, warn=True)\n"
          ]
        }
      ]
    },
    {
      "cell_type": "code",
      "source": [
        "model = Sequential()\n",
        "model.add(Embedding(input_dim=MAX_WORDS, output_dim=16, input_length=MAX_LEN))\n",
        "model.add(GRU(units=32, return_sequences=False))\n",
        "model.add(Dropout(0.2))\n",
        "model.add(Dense(units=nums, activation='softmax'))\n",
        "\n",
        "model.compile(optimizer='adam', loss='sparse_categorical_crossentropy', metrics=['accuracy'])\n",
        "model.summary()"
      ],
      "metadata": {
        "colab": {
          "base_uri": "https://localhost:8080/",
          "height": 265
        },
        "id": "8EN9hCU9RaVl",
        "outputId": "664ce588-b86a-4e87-d934-7065c13845a2"
      },
      "execution_count": 28,
      "outputs": [
        {
          "output_type": "display_data",
          "data": {
            "text/plain": [
              "\u001b[1mModel: \"sequential_4\"\u001b[0m\n"
            ],
            "text/html": [
              "<pre style=\"white-space:pre;overflow-x:auto;line-height:normal;font-family:Menlo,'DejaVu Sans Mono',consolas,'Courier New',monospace\"><span style=\"font-weight: bold\">Model: \"sequential_4\"</span>\n",
              "</pre>\n"
            ]
          },
          "metadata": {}
        },
        {
          "output_type": "display_data",
          "data": {
            "text/plain": [
              "┏━━━━━━━━━━━━━━━━━━━━━━━━━━━━━━━━━┳━━━━━━━━━━━━━━━━━━━━━━━━┳━━━━━━━━━━━━━━━┓\n",
              "┃\u001b[1m \u001b[0m\u001b[1mLayer (type)                   \u001b[0m\u001b[1m \u001b[0m┃\u001b[1m \u001b[0m\u001b[1mOutput Shape          \u001b[0m\u001b[1m \u001b[0m┃\u001b[1m \u001b[0m\u001b[1m      Param #\u001b[0m\u001b[1m \u001b[0m┃\n",
              "┡━━━━━━━━━━━━━━━━━━━━━━━━━━━━━━━━━╇━━━━━━━━━━━━━━━━━━━━━━━━╇━━━━━━━━━━━━━━━┩\n",
              "│ embedding_4 (\u001b[38;5;33mEmbedding\u001b[0m)         │ ?                      │   \u001b[38;5;34m0\u001b[0m (unbuilt) │\n",
              "├─────────────────────────────────┼────────────────────────┼───────────────┤\n",
              "│ gru_4 (\u001b[38;5;33mGRU\u001b[0m)                     │ ?                      │   \u001b[38;5;34m0\u001b[0m (unbuilt) │\n",
              "├─────────────────────────────────┼────────────────────────┼───────────────┤\n",
              "│ dropout_4 (\u001b[38;5;33mDropout\u001b[0m)             │ ?                      │             \u001b[38;5;34m0\u001b[0m │\n",
              "├─────────────────────────────────┼────────────────────────┼───────────────┤\n",
              "│ dense_3 (\u001b[38;5;33mDense\u001b[0m)                 │ ?                      │   \u001b[38;5;34m0\u001b[0m (unbuilt) │\n",
              "└─────────────────────────────────┴────────────────────────┴───────────────┘\n"
            ],
            "text/html": [
              "<pre style=\"white-space:pre;overflow-x:auto;line-height:normal;font-family:Menlo,'DejaVu Sans Mono',consolas,'Courier New',monospace\">┏━━━━━━━━━━━━━━━━━━━━━━━━━━━━━━━━━┳━━━━━━━━━━━━━━━━━━━━━━━━┳━━━━━━━━━━━━━━━┓\n",
              "┃<span style=\"font-weight: bold\"> Layer (type)                    </span>┃<span style=\"font-weight: bold\"> Output Shape           </span>┃<span style=\"font-weight: bold\">       Param # </span>┃\n",
              "┡━━━━━━━━━━━━━━━━━━━━━━━━━━━━━━━━━╇━━━━━━━━━━━━━━━━━━━━━━━━╇━━━━━━━━━━━━━━━┩\n",
              "│ embedding_4 (<span style=\"color: #0087ff; text-decoration-color: #0087ff\">Embedding</span>)         │ ?                      │   <span style=\"color: #00af00; text-decoration-color: #00af00\">0</span> (unbuilt) │\n",
              "├─────────────────────────────────┼────────────────────────┼───────────────┤\n",
              "│ gru_4 (<span style=\"color: #0087ff; text-decoration-color: #0087ff\">GRU</span>)                     │ ?                      │   <span style=\"color: #00af00; text-decoration-color: #00af00\">0</span> (unbuilt) │\n",
              "├─────────────────────────────────┼────────────────────────┼───────────────┤\n",
              "│ dropout_4 (<span style=\"color: #0087ff; text-decoration-color: #0087ff\">Dropout</span>)             │ ?                      │             <span style=\"color: #00af00; text-decoration-color: #00af00\">0</span> │\n",
              "├─────────────────────────────────┼────────────────────────┼───────────────┤\n",
              "│ dense_3 (<span style=\"color: #0087ff; text-decoration-color: #0087ff\">Dense</span>)                 │ ?                      │   <span style=\"color: #00af00; text-decoration-color: #00af00\">0</span> (unbuilt) │\n",
              "└─────────────────────────────────┴────────────────────────┴───────────────┘\n",
              "</pre>\n"
            ]
          },
          "metadata": {}
        },
        {
          "output_type": "display_data",
          "data": {
            "text/plain": [
              "\u001b[1m Total params: \u001b[0m\u001b[38;5;34m0\u001b[0m (0.00 B)\n"
            ],
            "text/html": [
              "<pre style=\"white-space:pre;overflow-x:auto;line-height:normal;font-family:Menlo,'DejaVu Sans Mono',consolas,'Courier New',monospace\"><span style=\"font-weight: bold\"> Total params: </span><span style=\"color: #00af00; text-decoration-color: #00af00\">0</span> (0.00 B)\n",
              "</pre>\n"
            ]
          },
          "metadata": {}
        },
        {
          "output_type": "display_data",
          "data": {
            "text/plain": [
              "\u001b[1m Trainable params: \u001b[0m\u001b[38;5;34m0\u001b[0m (0.00 B)\n"
            ],
            "text/html": [
              "<pre style=\"white-space:pre;overflow-x:auto;line-height:normal;font-family:Menlo,'DejaVu Sans Mono',consolas,'Courier New',monospace\"><span style=\"font-weight: bold\"> Trainable params: </span><span style=\"color: #00af00; text-decoration-color: #00af00\">0</span> (0.00 B)\n",
              "</pre>\n"
            ]
          },
          "metadata": {}
        },
        {
          "output_type": "display_data",
          "data": {
            "text/plain": [
              "\u001b[1m Non-trainable params: \u001b[0m\u001b[38;5;34m0\u001b[0m (0.00 B)\n"
            ],
            "text/html": [
              "<pre style=\"white-space:pre;overflow-x:auto;line-height:normal;font-family:Menlo,'DejaVu Sans Mono',consolas,'Courier New',monospace\"><span style=\"font-weight: bold\"> Non-trainable params: </span><span style=\"color: #00af00; text-decoration-color: #00af00\">0</span> (0.00 B)\n",
              "</pre>\n"
            ]
          },
          "metadata": {}
        }
      ]
    },
    {
      "cell_type": "code",
      "source": [
        "model.fit(X_padded, y_encoded, epochs=100, batch_size=2, verbose=2)"
      ],
      "metadata": {
        "colab": {
          "base_uri": "https://localhost:8080/"
        },
        "id": "-Fw2kGgcR5DB",
        "outputId": "277d412e-74f4-46cb-da90-1774821d22ed"
      },
      "execution_count": 29,
      "outputs": [
        {
          "output_type": "stream",
          "name": "stdout",
          "text": [
            "Epoch 1/100\n",
            "5/5 - 1s - 256ms/step - accuracy: 0.1000 - loss: 1.3912\n",
            "Epoch 2/100\n",
            "5/5 - 0s - 11ms/step - accuracy: 0.2000 - loss: 1.3863\n",
            "Epoch 3/100\n",
            "5/5 - 0s - 10ms/step - accuracy: 0.6000 - loss: 1.3813\n",
            "Epoch 4/100\n",
            "5/5 - 0s - 10ms/step - accuracy: 0.4000 - loss: 1.3772\n",
            "Epoch 5/100\n",
            "5/5 - 0s - 10ms/step - accuracy: 0.1000 - loss: 1.3797\n",
            "Epoch 6/100\n",
            "5/5 - 0s - 12ms/step - accuracy: 0.4000 - loss: 1.3754\n",
            "Epoch 7/100\n",
            "5/5 - 0s - 12ms/step - accuracy: 0.4000 - loss: 1.3720\n",
            "Epoch 8/100\n",
            "5/5 - 0s - 10ms/step - accuracy: 0.3000 - loss: 1.3773\n",
            "Epoch 9/100\n",
            "5/5 - 0s - 10ms/step - accuracy: 0.2000 - loss: 1.3708\n",
            "Epoch 10/100\n",
            "5/5 - 0s - 11ms/step - accuracy: 0.2000 - loss: 1.3674\n",
            "Epoch 11/100\n",
            "5/5 - 0s - 10ms/step - accuracy: 0.3000 - loss: 1.3710\n",
            "Epoch 12/100\n",
            "5/5 - 0s - 11ms/step - accuracy: 0.3000 - loss: 1.3800\n",
            "Epoch 13/100\n",
            "5/5 - 0s - 10ms/step - accuracy: 0.3000 - loss: 1.3735\n",
            "Epoch 14/100\n",
            "5/5 - 0s - 10ms/step - accuracy: 0.2000 - loss: 1.3617\n",
            "Epoch 15/100\n",
            "5/5 - 0s - 11ms/step - accuracy: 0.1000 - loss: 1.3652\n",
            "Epoch 16/100\n",
            "5/5 - 0s - 12ms/step - accuracy: 0.2000 - loss: 1.3734\n",
            "Epoch 17/100\n",
            "5/5 - 0s - 27ms/step - accuracy: 0.2000 - loss: 1.3803\n",
            "Epoch 18/100\n",
            "5/5 - 0s - 11ms/step - accuracy: 0.3000 - loss: 1.3610\n",
            "Epoch 19/100\n",
            "5/5 - 0s - 10ms/step - accuracy: 0.1000 - loss: 1.3694\n",
            "Epoch 20/100\n",
            "5/5 - 0s - 10ms/step - accuracy: 0.1000 - loss: 1.3745\n",
            "Epoch 21/100\n",
            "5/5 - 0s - 12ms/step - accuracy: 0.2000 - loss: 1.3896\n",
            "Epoch 22/100\n",
            "5/5 - 0s - 10ms/step - accuracy: 0.3000 - loss: 1.3781\n",
            "Epoch 23/100\n",
            "5/5 - 0s - 10ms/step - accuracy: 0.5000 - loss: 1.3522\n",
            "Epoch 24/100\n",
            "5/5 - 0s - 10ms/step - accuracy: 0.3000 - loss: 1.3664\n",
            "Epoch 25/100\n",
            "5/5 - 0s - 11ms/step - accuracy: 0.3000 - loss: 1.3681\n",
            "Epoch 26/100\n",
            "5/5 - 0s - 10ms/step - accuracy: 0.5000 - loss: 1.3665\n",
            "Epoch 27/100\n",
            "5/5 - 0s - 10ms/step - accuracy: 0.3000 - loss: 1.3714\n",
            "Epoch 28/100\n",
            "5/5 - 0s - 10ms/step - accuracy: 0.4000 - loss: 1.3533\n",
            "Epoch 29/100\n",
            "5/5 - 0s - 10ms/step - accuracy: 0.3000 - loss: 1.3547\n",
            "Epoch 30/100\n",
            "5/5 - 0s - 11ms/step - accuracy: 0.2000 - loss: 1.3574\n",
            "Epoch 31/100\n",
            "5/5 - 0s - 10ms/step - accuracy: 0.6000 - loss: 1.3442\n",
            "Epoch 32/100\n",
            "5/5 - 0s - 11ms/step - accuracy: 0.2000 - loss: 1.3642\n",
            "Epoch 33/100\n",
            "5/5 - 0s - 12ms/step - accuracy: 0.1000 - loss: 1.3800\n",
            "Epoch 34/100\n",
            "5/5 - 0s - 11ms/step - accuracy: 0.3000 - loss: 1.3574\n",
            "Epoch 35/100\n",
            "5/5 - 0s - 10ms/step - accuracy: 0.4000 - loss: 1.3691\n",
            "Epoch 36/100\n",
            "5/5 - 0s - 10ms/step - accuracy: 0.2000 - loss: 1.3682\n",
            "Epoch 37/100\n",
            "5/5 - 0s - 10ms/step - accuracy: 0.3000 - loss: 1.3827\n",
            "Epoch 38/100\n",
            "5/5 - 0s - 10ms/step - accuracy: 0.4000 - loss: 1.3516\n",
            "Epoch 39/100\n",
            "5/5 - 0s - 10ms/step - accuracy: 0.3000 - loss: 1.3559\n",
            "Epoch 40/100\n",
            "5/5 - 0s - 10ms/step - accuracy: 0.4000 - loss: 1.3559\n",
            "Epoch 41/100\n",
            "5/5 - 0s - 11ms/step - accuracy: 0.4000 - loss: 1.3659\n",
            "Epoch 42/100\n",
            "5/5 - 0s - 11ms/step - accuracy: 0.3000 - loss: 1.3602\n",
            "Epoch 43/100\n",
            "5/5 - 0s - 12ms/step - accuracy: 0.4000 - loss: 1.3314\n",
            "Epoch 44/100\n",
            "5/5 - 0s - 13ms/step - accuracy: 0.2000 - loss: 1.3567\n",
            "Epoch 45/100\n",
            "5/5 - 0s - 11ms/step - accuracy: 0.3000 - loss: 1.3638\n",
            "Epoch 46/100\n",
            "5/5 - 0s - 11ms/step - accuracy: 0.1000 - loss: 1.3545\n",
            "Epoch 47/100\n",
            "5/5 - 0s - 10ms/step - accuracy: 0.3000 - loss: 1.3454\n",
            "Epoch 48/100\n",
            "5/5 - 0s - 11ms/step - accuracy: 0.4000 - loss: 1.3361\n",
            "Epoch 49/100\n",
            "5/5 - 0s - 11ms/step - accuracy: 0.3000 - loss: 1.3188\n",
            "Epoch 50/100\n",
            "5/5 - 0s - 11ms/step - accuracy: 0.4000 - loss: 1.3242\n",
            "Epoch 51/100\n",
            "5/5 - 0s - 13ms/step - accuracy: 0.2000 - loss: 1.2900\n",
            "Epoch 52/100\n",
            "5/5 - 0s - 10ms/step - accuracy: 0.2000 - loss: 1.2678\n",
            "Epoch 53/100\n",
            "5/5 - 0s - 12ms/step - accuracy: 0.6000 - loss: 1.1577\n",
            "Epoch 54/100\n",
            "5/5 - 0s - 11ms/step - accuracy: 0.5000 - loss: 1.0495\n",
            "Epoch 55/100\n",
            "5/5 - 0s - 11ms/step - accuracy: 0.5000 - loss: 0.9564\n",
            "Epoch 56/100\n",
            "5/5 - 0s - 10ms/step - accuracy: 0.5000 - loss: 0.8808\n",
            "Epoch 57/100\n",
            "5/5 - 0s - 10ms/step - accuracy: 0.5000 - loss: 0.8259\n",
            "Epoch 58/100\n",
            "5/5 - 0s - 10ms/step - accuracy: 0.6000 - loss: 0.7177\n",
            "Epoch 59/100\n",
            "5/5 - 0s - 12ms/step - accuracy: 0.5000 - loss: 0.8687\n",
            "Epoch 60/100\n",
            "5/5 - 0s - 10ms/step - accuracy: 0.5000 - loss: 0.6394\n",
            "Epoch 61/100\n",
            "5/5 - 0s - 10ms/step - accuracy: 0.3000 - loss: 0.8671\n",
            "Epoch 62/100\n",
            "5/5 - 0s - 10ms/step - accuracy: 0.3000 - loss: 0.7608\n",
            "Epoch 63/100\n",
            "5/5 - 0s - 12ms/step - accuracy: 0.6000 - loss: 0.6121\n",
            "Epoch 64/100\n",
            "5/5 - 0s - 11ms/step - accuracy: 0.4000 - loss: 0.7198\n",
            "Epoch 65/100\n",
            "5/5 - 0s - 10ms/step - accuracy: 0.4000 - loss: 0.7734\n",
            "Epoch 66/100\n",
            "5/5 - 0s - 11ms/step - accuracy: 0.9000 - loss: 0.5459\n",
            "Epoch 67/100\n",
            "5/5 - 0s - 11ms/step - accuracy: 0.8000 - loss: 0.6169\n",
            "Epoch 68/100\n",
            "5/5 - 0s - 10ms/step - accuracy: 0.7000 - loss: 0.7514\n",
            "Epoch 69/100\n",
            "5/5 - 0s - 14ms/step - accuracy: 0.7000 - loss: 0.6300\n",
            "Epoch 70/100\n",
            "5/5 - 0s - 11ms/step - accuracy: 0.6000 - loss: 0.6781\n",
            "Epoch 71/100\n",
            "5/5 - 0s - 10ms/step - accuracy: 0.5000 - loss: 0.6849\n",
            "Epoch 72/100\n",
            "5/5 - 0s - 10ms/step - accuracy: 0.8000 - loss: 0.5087\n",
            "Epoch 73/100\n",
            "5/5 - 0s - 10ms/step - accuracy: 0.7000 - loss: 0.5496\n",
            "Epoch 74/100\n",
            "5/5 - 0s - 10ms/step - accuracy: 0.7000 - loss: 0.6042\n",
            "Epoch 75/100\n",
            "5/5 - 0s - 10ms/step - accuracy: 0.7000 - loss: 0.5832\n",
            "Epoch 76/100\n",
            "5/5 - 0s - 12ms/step - accuracy: 0.7000 - loss: 0.6099\n",
            "Epoch 77/100\n",
            "5/5 - 0s - 10ms/step - accuracy: 0.7000 - loss: 0.5649\n",
            "Epoch 78/100\n",
            "5/5 - 0s - 11ms/step - accuracy: 0.8000 - loss: 0.5376\n",
            "Epoch 79/100\n",
            "5/5 - 0s - 10ms/step - accuracy: 0.9000 - loss: 0.4122\n",
            "Epoch 80/100\n",
            "5/5 - 0s - 11ms/step - accuracy: 0.9000 - loss: 0.4440\n",
            "Epoch 81/100\n",
            "5/5 - 0s - 10ms/step - accuracy: 0.9000 - loss: 0.3928\n",
            "Epoch 82/100\n",
            "5/5 - 0s - 10ms/step - accuracy: 0.9000 - loss: 0.3907\n",
            "Epoch 83/100\n",
            "5/5 - 0s - 10ms/step - accuracy: 1.0000 - loss: 0.3434\n",
            "Epoch 84/100\n",
            "5/5 - 0s - 11ms/step - accuracy: 1.0000 - loss: 0.3641\n",
            "Epoch 85/100\n",
            "5/5 - 0s - 10ms/step - accuracy: 0.8000 - loss: 0.3352\n",
            "Epoch 86/100\n",
            "5/5 - 0s - 10ms/step - accuracy: 0.8000 - loss: 0.3697\n",
            "Epoch 87/100\n",
            "5/5 - 0s - 13ms/step - accuracy: 0.8000 - loss: 0.3376\n",
            "Epoch 88/100\n",
            "5/5 - 0s - 11ms/step - accuracy: 1.0000 - loss: 0.2287\n",
            "Epoch 89/100\n",
            "5/5 - 0s - 11ms/step - accuracy: 1.0000 - loss: 0.1670\n",
            "Epoch 90/100\n",
            "5/5 - 0s - 11ms/step - accuracy: 1.0000 - loss: 0.2047\n",
            "Epoch 91/100\n",
            "5/5 - 0s - 10ms/step - accuracy: 1.0000 - loss: 0.1888\n",
            "Epoch 92/100\n",
            "5/5 - 0s - 10ms/step - accuracy: 1.0000 - loss: 0.1636\n",
            "Epoch 93/100\n",
            "5/5 - 0s - 10ms/step - accuracy: 1.0000 - loss: 0.1440\n",
            "Epoch 94/100\n",
            "5/5 - 0s - 12ms/step - accuracy: 1.0000 - loss: 0.1720\n",
            "Epoch 95/100\n",
            "5/5 - 0s - 11ms/step - accuracy: 1.0000 - loss: 0.1265\n",
            "Epoch 96/100\n",
            "5/5 - 0s - 12ms/step - accuracy: 1.0000 - loss: 0.1421\n",
            "Epoch 97/100\n",
            "5/5 - 0s - 12ms/step - accuracy: 1.0000 - loss: 0.1116\n",
            "Epoch 98/100\n",
            "5/5 - 0s - 11ms/step - accuracy: 1.0000 - loss: 0.1404\n",
            "Epoch 99/100\n",
            "5/5 - 0s - 11ms/step - accuracy: 1.0000 - loss: 0.1495\n",
            "Epoch 100/100\n",
            "5/5 - 0s - 11ms/step - accuracy: 1.0000 - loss: 0.1157\n"
          ]
        },
        {
          "output_type": "execute_result",
          "data": {
            "text/plain": [
              "<keras.src.callbacks.history.History at 0x7f109fff0830>"
            ]
          },
          "metadata": {},
          "execution_count": 29
        }
      ]
    },
    {
      "cell_type": "code",
      "source": [
        "model.save(\"support_model.keras\")"
      ],
      "metadata": {
        "id": "xu-OYMpBSUDy"
      },
      "execution_count": 30,
      "outputs": []
    },
    {
      "cell_type": "code",
      "source": [
        "with open('tokenizer.pickle', 'wb') as handle:\n",
        "    pk.dump(tokenizer, handle, protocol=pk.HIGHEST_PROTOCOL)\n",
        "with open('encoder.pickle', 'wb') as handle:\n",
        "    pk.dump(encoder, handle, protocol=pk.HIGHEST_PROTOCOL)\n"
      ],
      "metadata": {
        "id": "d1HAGDphTvYr"
      },
      "execution_count": 31,
      "outputs": []
    },
    {
      "cell_type": "code",
      "source": [
        "model.summary()"
      ],
      "metadata": {
        "id": "Y5rkVnQEUJsv",
        "colab": {
          "base_uri": "https://localhost:8080/",
          "height": 281
        },
        "outputId": "923d97a6-1459-4d18-d415-b667fedae26e"
      },
      "execution_count": 32,
      "outputs": [
        {
          "output_type": "display_data",
          "data": {
            "text/plain": [
              "\u001b[1mModel: \"sequential_4\"\u001b[0m\n"
            ],
            "text/html": [
              "<pre style=\"white-space:pre;overflow-x:auto;line-height:normal;font-family:Menlo,'DejaVu Sans Mono',consolas,'Courier New',monospace\"><span style=\"font-weight: bold\">Model: \"sequential_4\"</span>\n",
              "</pre>\n"
            ]
          },
          "metadata": {}
        },
        {
          "output_type": "display_data",
          "data": {
            "text/plain": [
              "┏━━━━━━━━━━━━━━━━━━━━━━━━━━━━━━━━━┳━━━━━━━━━━━━━━━━━━━━━━━━┳━━━━━━━━━━━━━━━┓\n",
              "┃\u001b[1m \u001b[0m\u001b[1mLayer (type)                   \u001b[0m\u001b[1m \u001b[0m┃\u001b[1m \u001b[0m\u001b[1mOutput Shape          \u001b[0m\u001b[1m \u001b[0m┃\u001b[1m \u001b[0m\u001b[1m      Param #\u001b[0m\u001b[1m \u001b[0m┃\n",
              "┡━━━━━━━━━━━━━━━━━━━━━━━━━━━━━━━━━╇━━━━━━━━━━━━━━━━━━━━━━━━╇━━━━━━━━━━━━━━━┩\n",
              "│ embedding_4 (\u001b[38;5;33mEmbedding\u001b[0m)         │ (\u001b[38;5;34m2\u001b[0m, \u001b[38;5;34m20\u001b[0m, \u001b[38;5;34m16\u001b[0m)            │        \u001b[38;5;34m16,000\u001b[0m │\n",
              "├─────────────────────────────────┼────────────────────────┼───────────────┤\n",
              "│ gru_4 (\u001b[38;5;33mGRU\u001b[0m)                     │ (\u001b[38;5;34m2\u001b[0m, \u001b[38;5;34m32\u001b[0m)                │         \u001b[38;5;34m4,800\u001b[0m │\n",
              "├─────────────────────────────────┼────────────────────────┼───────────────┤\n",
              "│ dropout_4 (\u001b[38;5;33mDropout\u001b[0m)             │ (\u001b[38;5;34m2\u001b[0m, \u001b[38;5;34m32\u001b[0m)                │             \u001b[38;5;34m0\u001b[0m │\n",
              "├─────────────────────────────────┼────────────────────────┼───────────────┤\n",
              "│ dense_3 (\u001b[38;5;33mDense\u001b[0m)                 │ (\u001b[38;5;34m2\u001b[0m, \u001b[38;5;34m4\u001b[0m)                 │           \u001b[38;5;34m132\u001b[0m │\n",
              "└─────────────────────────────────┴────────────────────────┴───────────────┘\n"
            ],
            "text/html": [
              "<pre style=\"white-space:pre;overflow-x:auto;line-height:normal;font-family:Menlo,'DejaVu Sans Mono',consolas,'Courier New',monospace\">┏━━━━━━━━━━━━━━━━━━━━━━━━━━━━━━━━━┳━━━━━━━━━━━━━━━━━━━━━━━━┳━━━━━━━━━━━━━━━┓\n",
              "┃<span style=\"font-weight: bold\"> Layer (type)                    </span>┃<span style=\"font-weight: bold\"> Output Shape           </span>┃<span style=\"font-weight: bold\">       Param # </span>┃\n",
              "┡━━━━━━━━━━━━━━━━━━━━━━━━━━━━━━━━━╇━━━━━━━━━━━━━━━━━━━━━━━━╇━━━━━━━━━━━━━━━┩\n",
              "│ embedding_4 (<span style=\"color: #0087ff; text-decoration-color: #0087ff\">Embedding</span>)         │ (<span style=\"color: #00af00; text-decoration-color: #00af00\">2</span>, <span style=\"color: #00af00; text-decoration-color: #00af00\">20</span>, <span style=\"color: #00af00; text-decoration-color: #00af00\">16</span>)            │        <span style=\"color: #00af00; text-decoration-color: #00af00\">16,000</span> │\n",
              "├─────────────────────────────────┼────────────────────────┼───────────────┤\n",
              "│ gru_4 (<span style=\"color: #0087ff; text-decoration-color: #0087ff\">GRU</span>)                     │ (<span style=\"color: #00af00; text-decoration-color: #00af00\">2</span>, <span style=\"color: #00af00; text-decoration-color: #00af00\">32</span>)                │         <span style=\"color: #00af00; text-decoration-color: #00af00\">4,800</span> │\n",
              "├─────────────────────────────────┼────────────────────────┼───────────────┤\n",
              "│ dropout_4 (<span style=\"color: #0087ff; text-decoration-color: #0087ff\">Dropout</span>)             │ (<span style=\"color: #00af00; text-decoration-color: #00af00\">2</span>, <span style=\"color: #00af00; text-decoration-color: #00af00\">32</span>)                │             <span style=\"color: #00af00; text-decoration-color: #00af00\">0</span> │\n",
              "├─────────────────────────────────┼────────────────────────┼───────────────┤\n",
              "│ dense_3 (<span style=\"color: #0087ff; text-decoration-color: #0087ff\">Dense</span>)                 │ (<span style=\"color: #00af00; text-decoration-color: #00af00\">2</span>, <span style=\"color: #00af00; text-decoration-color: #00af00\">4</span>)                 │           <span style=\"color: #00af00; text-decoration-color: #00af00\">132</span> │\n",
              "└─────────────────────────────────┴────────────────────────┴───────────────┘\n",
              "</pre>\n"
            ]
          },
          "metadata": {}
        },
        {
          "output_type": "display_data",
          "data": {
            "text/plain": [
              "\u001b[1m Total params: \u001b[0m\u001b[38;5;34m62,798\u001b[0m (245.31 KB)\n"
            ],
            "text/html": [
              "<pre style=\"white-space:pre;overflow-x:auto;line-height:normal;font-family:Menlo,'DejaVu Sans Mono',consolas,'Courier New',monospace\"><span style=\"font-weight: bold\"> Total params: </span><span style=\"color: #00af00; text-decoration-color: #00af00\">62,798</span> (245.31 KB)\n",
              "</pre>\n"
            ]
          },
          "metadata": {}
        },
        {
          "output_type": "display_data",
          "data": {
            "text/plain": [
              "\u001b[1m Trainable params: \u001b[0m\u001b[38;5;34m20,932\u001b[0m (81.77 KB)\n"
            ],
            "text/html": [
              "<pre style=\"white-space:pre;overflow-x:auto;line-height:normal;font-family:Menlo,'DejaVu Sans Mono',consolas,'Courier New',monospace\"><span style=\"font-weight: bold\"> Trainable params: </span><span style=\"color: #00af00; text-decoration-color: #00af00\">20,932</span> (81.77 KB)\n",
              "</pre>\n"
            ]
          },
          "metadata": {}
        },
        {
          "output_type": "display_data",
          "data": {
            "text/plain": [
              "\u001b[1m Non-trainable params: \u001b[0m\u001b[38;5;34m0\u001b[0m (0.00 B)\n"
            ],
            "text/html": [
              "<pre style=\"white-space:pre;overflow-x:auto;line-height:normal;font-family:Menlo,'DejaVu Sans Mono',consolas,'Courier New',monospace\"><span style=\"font-weight: bold\"> Non-trainable params: </span><span style=\"color: #00af00; text-decoration-color: #00af00\">0</span> (0.00 B)\n",
              "</pre>\n"
            ]
          },
          "metadata": {}
        },
        {
          "output_type": "display_data",
          "data": {
            "text/plain": [
              "\u001b[1m Optimizer params: \u001b[0m\u001b[38;5;34m41,866\u001b[0m (163.54 KB)\n"
            ],
            "text/html": [
              "<pre style=\"white-space:pre;overflow-x:auto;line-height:normal;font-family:Menlo,'DejaVu Sans Mono',consolas,'Courier New',monospace\"><span style=\"font-weight: bold\"> Optimizer params: </span><span style=\"color: #00af00; text-decoration-color: #00af00\">41,866</span> (163.54 KB)\n",
              "</pre>\n"
            ]
          },
          "metadata": {}
        }
      ]
    },
    {
      "cell_type": "code",
      "source": [],
      "metadata": {
        "id": "_mRRhLAWaQSs"
      },
      "execution_count": 10,
      "outputs": []
    }
  ]
}